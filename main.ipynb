{
 "cells": [
  {
   "cell_type": "code",
   "execution_count": 1,
   "metadata": {},
   "outputs": [
    {
     "name": "stdout",
     "output_type": "stream",
     "text": [
      "Downloading demonstrations to demos/StackCube-v1 - 1/1, StackCube-v1\n",
      "106kit [00:01, 81.0kit/s]                                                       \n",
      "500kit [00:00, 737kit/s]                                                        \n",
      "8.19kit [00:00, 24.3kit/s]                                                      \n",
      "Downloading demonstrations to demos/PickCube-v1 - 1/1, PickCube-v1\n",
      "98.3kit [00:00, 223kit/s]                                                       \n",
      "385kit [00:00, 573kit/s]                                                        \n",
      "8.19kit [00:00, 23.4kit/s]                                                      \n"
     ]
    }
   ],
   "source": [
    "!python -m mani_skill.utils.download_demo \"StackCube-v1\" -o \"demos\"\n",
    "!python -m mani_skill.utils.download_demo \"PickCube-v1\" -o \"demos\""
   ]
  },
  {
   "cell_type": "code",
   "execution_count": 20,
   "metadata": {},
   "outputs": [
    {
     "name": "stdout",
     "output_type": "stream",
     "text": [
      "0step [00:00, ?step/s, control_mode=pd_joint_delta_pos, obs_mode=state]\u001b[33;1m2024-05-11 22:16:38,080 - mani_skill  - WARNING - mani_skill is not installed with git.\u001b[0m\n",
      "Episode 0 is not replayed successfully. Skipping                                           \n",
      "Replaying traj_9: 100%|█| 137/137 [00:00<00:00, 309.49step/s, control_mode=pd_jo\n",
      "0step [00:00, ?step/s, control_mode=pd_joint_delta_pos, obs_mode=state]\u001b[33;1m2024-05-11 22:16:44,212 - mani_skill  - WARNING - mani_skill is not installed with git.\u001b[0m\n",
      "Replaying traj_9: 100%|█| 101/101 [00:00<00:00, 307.57step/s, control_mode=pd_jo           \n"
     ]
    }
   ],
   "source": [
    "!python -W ignore -m mani_skill.trajectory.replay_trajectory \\\n",
    "    --traj-path demos/StackCube-v1/teleop/trajectory.h5 --save-traj \\\n",
    "    --obs-mode state -c \"pd_joint_delta_pos\" --num-procs 1\n",
    "\n",
    "!python -W ignore -m mani_skill.trajectory.replay_trajectory \\\n",
    "    --traj-path demos/PickCube-v1/teleop/trajectory.h5 --save-traj \\\n",
    "    --obs-mode state -c \"pd_joint_delta_pos\" --num-procs 1"
   ]
  },
  {
   "cell_type": "code",
   "execution_count": 4,
   "metadata": {},
   "outputs": [
    {
     "name": "stdout",
     "output_type": "stream",
     "text": [
      "\u001b[34m\u001b[1mwandb\u001b[0m: Currently logged in as: \u001b[33mgurunarayana100\u001b[0m. Use \u001b[1m`wandb login --relogin`\u001b[0m to force relogin\n",
      "\u001b[34m\u001b[1mwandb\u001b[0m: Tracking run with wandb version 0.17.0\n",
      "\u001b[34m\u001b[1mwandb\u001b[0m: Run data is saved locally in \u001b[35m\u001b[1m/home/guru/Quarter_work/Q3/CS_276/Project1/wandb/run-20240513_131228-abeeha60\u001b[0m\n",
      "\u001b[34m\u001b[1mwandb\u001b[0m: Run \u001b[1m`wandb offline`\u001b[0m to turn off syncing.\n",
      "\u001b[34m\u001b[1mwandb\u001b[0m: Syncing run \u001b[33mPickCube-v1__base_test__1__1715631147\u001b[0m\n",
      "\u001b[34m\u001b[1mwandb\u001b[0m: ⭐️ View project at \u001b[34m\u001b[4mhttps://wandb.ai/gurunarayana100/SAC_imporv\u001b[0m\n",
      "\u001b[34m\u001b[1mwandb\u001b[0m: 🚀 View run at \u001b[34m\u001b[4mhttps://wandb.ai/gurunarayana100/SAC_imporv/runs/abeeha60\u001b[0m\n",
      "Logging to wandb in project SAC_imporv with name PickCube-v1__base_test__1__1715631147\n",
      "Logging to tensorboard in runs/PickCube-v1__base_test__1__1715631147\n",
      "MESA-INTEL: warning: Performance support disabled, consider sysctl dev.i915.perf_stream_paranoid=0\n",
      "\n",
      "MESA-INTEL: warning: Performance support disabled, consider sysctl dev.i915.perf_stream_paranoid=0\n",
      "\n",
      "Step: 204800 SPS: 28963 Actor Loss: -11.862561225891113 Q Loss: 0.38330700993537903 Alpha: 0.9500631093978882\n",
      "Q1 Loss: 0.35516661405563354 Q1 Value: 6.672284126281738 Q2 Value: 6.5780792236328125 \n",
      "\n",
      "Step: 409600 SPS: 29316 Actor Loss: -14.733467102050781 Q Loss: 0.11789225786924362 Alpha: 0.8609193563461304\n",
      "Q1 Loss: 0.11795362830162048 Q1 Value: 10.054737091064453 Q2 Value: 10.062919616699219 \n",
      "\n",
      "^C\n",
      "Traceback (most recent call last):\n",
      "  File \"/home/guru/Quarter_work/Q3/CS_276/Project1/./scripts/sac.py\", line 128, in <module>\n",
      "    next_obs, rewards, terminations, truncations, infos = envs.step(actions)\n",
      "  File \"/home/guru/anaconda3/envs/cs276f/lib/python3.10/site-packages/gymnasium/wrappers/time_limit.py\", line 57, in step\n",
      "    observation, reward, terminated, truncated, info = self.env.step(action)\n",
      "  File \"/home/guru/anaconda3/envs/cs276f/lib/python3.10/site-packages/gymnasium/wrappers/order_enforcing.py\", line 56, in step\n",
      "    return self.env.step(action)\n",
      "  File \"/home/guru/anaconda3/envs/cs276f/lib/python3.10/site-packages/mani_skill/envs/sapien_env.py\", line 767, in step\n",
      "    action = self._step_action(action)\n",
      "  File \"/home/guru/anaconda3/envs/cs276f/lib/python3.10/site-packages/mani_skill/envs/sapien_env.py\", line 835, in _step_action\n",
      "    self.scene.step()\n",
      "  File \"/home/guru/anaconda3/envs/cs276f/lib/python3.10/site-packages/mani_skill/envs/scene.py\", line 219, in step\n",
      "    self.px.step()\n",
      "KeyboardInterrupt\n",
      "Traceback (most recent call last):\n",
      "  File \"/home/guru/Quarter_work/Q3/CS_276/Project1/./scripts/sac.py\", line 128, in <module>\n",
      "    next_obs, rewards, terminations, truncations, infos = envs.step(actions)\n",
      "  File \"/home/guru/anaconda3/envs/cs276f/lib/python3.10/site-packages/gymnasium/wrappers/time_limit.py\", line 57, in step\n",
      "    observation, reward, terminated, truncated, info = self.env.step(action)\n",
      "  File \"/home/guru/anaconda3/envs/cs276f/lib/python3.10/site-packages/gymnasium/wrappers/order_enforcing.py\", line 56, in step\n",
      "    return self.env.step(action)\n",
      "  File \"/home/guru/anaconda3/envs/cs276f/lib/python3.10/site-packages/mani_skill/envs/sapien_env.py\", line 767, in step\n",
      "    action = self._step_action(action)\n",
      "  File \"/home/guru/anaconda3/envs/cs276f/lib/python3.10/site-packages/mani_skill/envs/sapien_env.py\", line 835, in _step_action\n",
      "    self.scene.step()\n",
      "  File \"/home/guru/anaconda3/envs/cs276f/lib/python3.10/site-packages/mani_skill/envs/scene.py\", line 219, in step\n",
      "    self.px.step()\n",
      "KeyboardInterrupt\n"
     ]
    }
   ],
   "source": [
    "!python -W ignore ./scripts/sac.py --track  --wandb_entity gurunarayana100  --exp_name base_test"
   ]
  },
  {
   "cell_type": "code",
   "execution_count": 3,
   "metadata": {},
   "outputs": [
    {
     "name": "stdout",
     "output_type": "stream",
     "text": [
      "Evaluation mode is activated, will not track the experiment\n",
      "MESA-INTEL: warning: Performance support disabled, consider sysctl dev.i915.perf_stream_paranoid=0\n",
      "\n",
      "MESA-INTEL: warning: Performance support disabled, consider sysctl dev.i915.perf_stream_paranoid=0\n",
      "\n",
      "Saving eval videos to runs/PickCube-v1__base_test__1__1715630207/test_videos\n",
      "\u001b[33;1m2024-05-13 13:10:06,026 - mani_skill  - WARNING - mani_skill is not installed with git.\u001b[0m\n",
      "Model loaded from runs/PickCube-v1__base_test__1__1715630207/model_10000.pt\n",
      "env_step=100352, episodic_return=5.087557785212994\n"
     ]
    }
   ],
   "source": [
    "!python -W ignore ./scripts/sac.py --env-id \"PickCube-v1\" --evaluate --capture-video --total_timesteps 50 --checkpoint \"runs/PickCube-v1__base_test__1__1715630207/model_10000.pt\""
   ]
  }
 ],
 "metadata": {
  "kernelspec": {
   "display_name": "cs276f",
   "language": "python",
   "name": "python3"
  },
  "language_info": {
   "codemirror_mode": {
    "name": "ipython",
    "version": 3
   },
   "file_extension": ".py",
   "mimetype": "text/x-python",
   "name": "python",
   "nbconvert_exporter": "python",
   "pygments_lexer": "ipython3",
   "version": "3.10.12"
  }
 },
 "nbformat": 4,
 "nbformat_minor": 2
}
