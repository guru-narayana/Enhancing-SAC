{
 "cells": [
  {
   "cell_type": "code",
   "execution_count": 1,
   "metadata": {},
   "outputs": [
    {
     "name": "stdout",
     "output_type": "stream",
     "text": [
      "Downloading demonstrations to demos/StackCube-v1 - 1/1, StackCube-v1\n",
      "106kit [00:01, 81.0kit/s]                                                       \n",
      "500kit [00:00, 737kit/s]                                                        \n",
      "8.19kit [00:00, 24.3kit/s]                                                      \n",
      "Downloading demonstrations to demos/PickCube-v1 - 1/1, PickCube-v1\n",
      "98.3kit [00:00, 223kit/s]                                                       \n",
      "385kit [00:00, 573kit/s]                                                        \n",
      "8.19kit [00:00, 23.4kit/s]                                                      \n"
     ]
    }
   ],
   "source": [
    "!python -m mani_skill.utils.download_demo \"StackCube-v1\" -o \"demos\"\n",
    "!python -m mani_skill.utils.download_demo \"PickCube-v1\" -o \"demos\""
   ]
  },
  {
   "cell_type": "code",
   "execution_count": 20,
   "metadata": {},
   "outputs": [
    {
     "name": "stdout",
     "output_type": "stream",
     "text": [
      "0step [00:00, ?step/s, control_mode=pd_joint_delta_pos, obs_mode=state]\u001b[33;1m2024-05-11 22:16:38,080 - mani_skill  - WARNING - mani_skill is not installed with git.\u001b[0m\n",
      "Episode 0 is not replayed successfully. Skipping                                           \n",
      "Replaying traj_9: 100%|█| 137/137 [00:00<00:00, 309.49step/s, control_mode=pd_jo\n",
      "0step [00:00, ?step/s, control_mode=pd_joint_delta_pos, obs_mode=state]\u001b[33;1m2024-05-11 22:16:44,212 - mani_skill  - WARNING - mani_skill is not installed with git.\u001b[0m\n",
      "Replaying traj_9: 100%|█| 101/101 [00:00<00:00, 307.57step/s, control_mode=pd_jo           \n"
     ]
    }
   ],
   "source": [
    "!python -W ignore -m mani_skill.trajectory.replay_trajectory \\\n",
    "    --traj-path demos/StackCube-v1/teleop/trajectory.h5 --save-traj \\\n",
    "    --obs-mode state -c \"pd_joint_delta_pos\" --num-procs 1\n",
    "\n",
    "!python -W ignore -m mani_skill.trajectory.replay_trajectory \\\n",
    "    --traj-path demos/PickCube-v1/teleop/trajectory.h5 --save-traj \\\n",
    "    --obs-mode state -c \"pd_joint_delta_pos\" --num-procs 1"
   ]
  },
  {
   "cell_type": "code",
   "execution_count": null,
   "metadata": {},
   "outputs": [],
   "source": [
    "!python -W ignore ./scripts/sac.py --env-id \"StackCube-v1\" --evaluate --capture-video --total_timesteps 50"
   ]
  },
  {
   "cell_type": "code",
   "execution_count": 3,
   "metadata": {},
   "outputs": [
    {
     "name": "stdout",
     "output_type": "stream",
     "text": [
      "Evaluation mode is activated, will not track the experiment\n",
      "Saving eval videos to runs/PickCube-v1__TestSAC__1__1715542986/videos\n",
      "\u001b[33;1m2024-05-12 12:43:07,801 - mani_skill  - WARNING - mani_skill is not installed with git.\u001b[0m\n"
     ]
    }
   ],
   "source": [
    "!python -W ignore ./scripts/sac.py --env-id \"PickCube-v1\" --evaluate --capture-video --total_timesteps 50"
   ]
  }
 ],
 "metadata": {
  "kernelspec": {
   "display_name": "cs276f",
   "language": "python",
   "name": "python3"
  },
  "language_info": {
   "codemirror_mode": {
    "name": "ipython",
    "version": 3
   },
   "file_extension": ".py",
   "mimetype": "text/x-python",
   "name": "python",
   "nbconvert_exporter": "python",
   "pygments_lexer": "ipython3",
   "version": "3.10.12"
  }
 },
 "nbformat": 4,
 "nbformat_minor": 2
}
