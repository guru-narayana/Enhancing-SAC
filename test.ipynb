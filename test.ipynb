{
 "cells": [
  {
   "cell_type": "code",
   "execution_count": 2,
   "metadata": {},
   "outputs": [
    {
     "name": "stdout",
     "output_type": "stream",
     "text": [
      "Observation space Box(-inf, inf, (1, 42), float32)\n",
      "Action space Box(-1.0, 1.0, (7,), float32)\n"
     ]
    }
   ],
   "source": [
    "import gymnasium as gym\n",
    "import mani_skill.envs\n",
    "\n",
    "env = gym.make(\n",
    "    \"PickCube-v1\", # there are more tasks e.g. \"PushCube-v1\", \"PegInsertionSide-v1\", ...\n",
    "    num_envs=1,\n",
    "    obs_mode=\"state\", # there is also \"state_dict\", \"rgbd\", ...\n",
    "    control_mode=\"pd_ee_delta_pose\", # there is also \"pd_joint_delta_pos\", ...\n",
    "    render_mode=\"human\"\n",
    ")\n",
    "print(\"Observation space\", env.observation_space)\n",
    "print(\"Action space\", env.action_space)\n",
    "\n",
    "obs, _ = env.reset(seed=0) # reset with a seed for determinism\n",
    "done = False\n",
    "while not done:\n",
    "    action = env.action_space.sample()\n",
    "    obs, reward, terminated, truncated, info = env.step(action)\n",
    "    done = terminated or truncated\n",
    "    env.render()  # a display is required to render\n",
    "env.close()"
   ]
  }
 ],
 "metadata": {
  "kernelspec": {
   "display_name": "cs276HW",
   "language": "python",
   "name": "python3"
  },
  "language_info": {
   "codemirror_mode": {
    "name": "ipython",
    "version": 3
   },
   "file_extension": ".py",
   "mimetype": "text/x-python",
   "name": "python",
   "nbconvert_exporter": "python",
   "pygments_lexer": "ipython3",
   "version": "3.10.12"
  }
 },
 "nbformat": 4,
 "nbformat_minor": 2
}
