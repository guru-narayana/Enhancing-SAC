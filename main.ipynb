{
 "cells": [
  {
   "cell_type": "markdown",
   "metadata": {},
   "source": [
    "# setting up everything"
   ]
  },
  {
   "cell_type": "code",
   "execution_count": null,
   "metadata": {},
   "outputs": [],
   "source": [
    "!python -m mani_skill.utils.download_demo \"StackCube-v1\" -o \"demos\"\n",
    "!python -m mani_skill.utils.download_demo \"PickCube-v1\" -o \"demos\""
   ]
  },
  {
   "cell_type": "code",
   "execution_count": null,
   "metadata": {},
   "outputs": [],
   "source": [
    "!python -W ignore -m mani_skill.trajectory.replay_trajectory \\\n",
    "    --traj-path demos/PickCube-v1/teleop/trajectory.h5 --save-traj \\\n",
    "    --obs-mode state -c \"pd_joint_delta_pos\" --num-procs 4 --record-rewards True --save-video\n",
    "\n",
    "!python -W ignore -m mani_skill.trajectory.replay_trajectory \\\n",
    "    --traj-path demos/StackCube-v1/teleop/trajectory.h5 --save-traj \\\n",
    "    --obs-mode state -c \"pd_joint_delta_pos\" --num-procs 1 --record-rewards True --save-video"
   ]
  },
  {
   "cell_type": "code",
   "execution_count": null,
   "metadata": {},
   "outputs": [],
   "source": [
    "ENV_NAME = \"PickCube-v1\""
   ]
  },
  {
   "cell_type": "markdown",
   "metadata": {},
   "source": [
    "# Intial test with variying parameters"
   ]
  },
  {
   "cell_type": "code",
   "execution_count": null,
   "metadata": {},
   "outputs": [],
   "source": [
    "!python -W ignore ./scripts/sac.py  --exp_name low_256_4e-4 --batch_size 256 --q_lr 4e-4 --policy_lr 3e-4 --buffer_size 1e6 --num_envs 256 --env_id \"{ENV_NAME}\""
   ]
  },
  {
   "cell_type": "code",
   "execution_count": null,
   "metadata": {},
   "outputs": [],
   "source": [
    "!python -W ignore ./scripts/sac.py  --exp_name low_512_4e-4 --batch_size 512 --q_lr 4e-4 --policy_lr 3e-4 --buffer_size 1e6 --num_envs 512 --env_id \"{ENV_NAME}\""
   ]
  },
  {
   "cell_type": "code",
   "execution_count": null,
   "metadata": {},
   "outputs": [],
   "source": [
    "!python -W ignore ./scripts/sac.py  --exp_name low_768_4e-4 --batch_size 768 --q_lr 4e-4 --policy_lr 3e-4 --buffer_size 1e6 --num_envs 768 --env_id \"{ENV_NAME}\""
   ]
  },
  {
   "cell_type": "code",
   "execution_count": null,
   "metadata": {},
   "outputs": [],
   "source": [
    "!python -W ignore ./scripts/sac.py  --exp_name low_256_6e-4 --batch_size 256 --q_lr 6e-4 --policy_lr 3e-4 --buffer_size 1e6 --num_envs 256 --env_id \"{ENV_NAME}\""
   ]
  },
  {
   "cell_type": "code",
   "execution_count": null,
   "metadata": {},
   "outputs": [],
   "source": [
    "!python -W ignore ./scripts/sac.py  --exp_name low_512_6e-4 --batch_size 512 --q_lr 6e-4 --policy_lr 3e-4 --buffer_size 1e6 --num_envs 512 --env_id \"{ENV_NAME}\""
   ]
  },
  {
   "cell_type": "code",
   "execution_count": null,
   "metadata": {},
   "outputs": [],
   "source": [
    "!python -W ignore ./scripts/sac.py  --exp_name low_768_6e-4 --batch_size 768 --q_lr 6e-4 --policy_lr 3e-4 --buffer_size 1e6 --num_envs 768 --env_id \"{ENV_NAME}\""
   ]
  },
  {
   "cell_type": "code",
   "execution_count": null,
   "metadata": {},
   "outputs": [],
   "source": [
    "!python -W ignore ./scripts/sac.py  --exp_name low_256_4e_4_double --batch_size 256 --q_lr 4e-4 --policy_lr 3e-4 --buffer_size 2e6 --num_envs 256 --env_id \"{ENV_NAME}\""
   ]
  },
  {
   "cell_type": "code",
   "execution_count": null,
   "metadata": {},
   "outputs": [],
   "source": [
    "!python -W ignore ./scripts/sac.py  --exp_name low_512_4e_4_double --batch_size 512 --q_lr 4e-4 --policy_lr 3e-4 --buffer_size 2e6 --num_envs 512 --env_id \"{ENV_NAME}\""
   ]
  },
  {
   "cell_type": "code",
   "execution_count": null,
   "metadata": {},
   "outputs": [],
   "source": [
    "!python -W ignore ./scripts/sac.py  --exp_name low_768_4e_4_double --batch_size 768 --q_lr 4e-4 --policy_lr 3e-4 --buffer_size 2e6 --num_envs 768 --env_id \"{ENV_NAME}\""
   ]
  },
  {
   "cell_type": "markdown",
   "metadata": {},
   "source": [
    "# With the inclusion of the demo data"
   ]
  },
  {
   "cell_type": "code",
   "execution_count": null,
   "metadata": {},
   "outputs": [],
   "source": [
    "!python -W ignore ./scripts/sac.py  --exp_name demo_00_5_6e-4 --batch_size 512 --q_lr 6e-4 --policy_lr 3e-4 --buffer_size 1e6 --num_envs 512 --use_demo --demo_percent 0.05 --env_id \"{ENV_NAME}\""
   ]
  },
  {
   "cell_type": "code",
   "execution_count": null,
   "metadata": {},
   "outputs": [],
   "source": [
    "!python -W ignore ./scripts/sac.py  --exp_name demo_10_6e-4 --batch_size 512 --q_lr 6e-4 --policy_lr 3e-4 --buffer_size 1e6 --num_envs 512 --use_demo --demo_percent 0.1 --env_id \"{ENV_NAME}\""
   ]
  },
  {
   "cell_type": "code",
   "execution_count": null,
   "metadata": {},
   "outputs": [],
   "source": [
    "!python -W ignore ./scripts/sac.py  --exp_name demo_20_6e-4 --batch_size 512 --q_lr 6e-4 --policy_lr 3e-4 --buffer_size 1e6 --num_envs 512 --use_demo --demo_percent 0.2 --env_id \"{ENV_NAME}\""
   ]
  },
  {
   "cell_type": "code",
   "execution_count": null,
   "metadata": {},
   "outputs": [],
   "source": [
    "!python -W ignore ./scripts/sac.py  --exp_name demo_30_6e-4 --batch_size 512 --q_lr 6e-4 --policy_lr 3e-4 --buffer_size 1e6 --num_envs 512 --use_demo --demo_percent 0.3 --env_id \"{ENV_NAME}\""
   ]
  },
  {
   "cell_type": "code",
   "execution_count": null,
   "metadata": {},
   "outputs": [],
   "source": [
    "!python -W ignore ./scripts/sac.py  --exp_name demo_40_6e-4 --batch_size 512 --q_lr 6e-4 --policy_lr 3e-4 --buffer_size 1e6 --num_envs 512 --use_demo --demo_percent 0.4 --env_id \"{ENV_NAME}\""
   ]
  },
  {
   "cell_type": "code",
   "execution_count": null,
   "metadata": {},
   "outputs": [],
   "source": [
    "!python -W ignore ./scripts/sac.py  --exp_name demo_50_6e-4 --batch_size 512 --q_lr 6e-4 --policy_lr 3e-4 --buffer_size 1e6 --num_envs 512 --use_demo --demo_percent 0.5 --env_id \"{ENV_NAME}\""
   ]
  },
  {
   "cell_type": "markdown",
   "metadata": {},
   "source": [
    "# Evaluation and generating video"
   ]
  },
  {
   "cell_type": "code",
   "execution_count": null,
   "metadata": {},
   "outputs": [],
   "source": [
    "!python -W ignore ./scripts/sac.py --env_id \"{ENV_NAME}\" --evaluate --num_eval_envs 1 --capture-video --total_timesteps 500 --checkpoint \"runs/pick_cube_bench/PickCube-v1__low_768_6e-4__1__1715861462/model_48000.pt\""
   ]
  }
 ],
 "metadata": {
  "kernelspec": {
   "display_name": "cs276f",
   "language": "python",
   "name": "python3"
  },
  "language_info": {
   "codemirror_mode": {
    "name": "ipython",
    "version": 3
   },
   "file_extension": ".py",
   "mimetype": "text/x-python",
   "name": "python",
   "nbconvert_exporter": "python",
   "pygments_lexer": "ipython3",
   "version": "3.10.12"
  }
 },
 "nbformat": 4,
 "nbformat_minor": 2
}
