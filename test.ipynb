{
 "cells": [
  {
   "cell_type": "code",
   "execution_count": 1,
   "metadata": {},
   "outputs": [
    {
     "name": "stdout",
     "output_type": "stream",
     "text": [
      "Observation space Box(-inf, inf, (1, 48), float32)\n",
      "Action space (8,)\n"
     ]
    },
    {
     "name": "stderr",
     "output_type": "stream",
     "text": [
      "/home/aneesh/anaconda3/envs/cs276f/lib/python3.10/site-packages/gymnasium/core.py:311: UserWarning: \u001b[33mWARN: env.single_action_space to get variables from other wrappers is deprecated and will be removed in v1.0, to get this variable you can do `env.unwrapped.single_action_space` for environment variables or `env.get_wrapper_attr('single_action_space')` that will search the reminding wrappers.\u001b[0m\n",
      "  logger.warn(\n"
     ]
    }
   ],
   "source": [
    "import gymnasium as gym\n",
    "import mani_skill.envs\n",
    "\n",
    "env = gym.make(\n",
    "    \"StackCube-v1\", # there are more tasks e.g. \"PushCube-v1\", \"PegInsertionSide-v1\", ...\n",
    "    num_envs=1,\n",
    "    obs_mode=\"state\", # there is also \"state_dict\", \"rgbd\", ...\n",
    "    control_mode=\"pd_joint_delta_pos\", # there is also \"pd_joint_delta_pos\", ...\n",
    ")\n",
    "print(\"Observation space\", env.observation_space)\n",
    "print(\"Action space\", env.single_action_space.shape)\n",
    "\n",
    "obs, _ = env.reset(seed=0) # reset with a seed for determinism\n",
    "done = False\n",
    "\n",
    "\n",
    "action = env.action_space.sample()\n",
    "obs, reward, terminated, truncated, info = env.step(action)"
   ]
  },
  {
   "cell_type": "code",
   "execution_count": 2,
   "metadata": {},
   "outputs": [
    {
     "data": {
      "text/plain": [
       "tensor([[ 2.1857e-02,  4.0239e-01,  4.7931e-02, -1.9259e+00,  6.1085e-02,\n",
       "          2.3201e+00,  7.8171e-01,  3.6930e-02,  3.6928e-02, -8.7670e-02,\n",
       "          9.0084e-02,  5.0572e-01, -1.6610e-01,  3.7110e-01, -2.6564e-01,\n",
       "         -3.5149e-01, -4.8464e-02, -4.6909e-02,  4.9021e-03,  4.9643e-02,\n",
       "          1.7697e-01, -3.1513e-02,  9.9939e-01,  1.3957e-02, -5.0299e-03,\n",
       "         -8.3078e-02, -9.3500e-02,  2.0000e-02,  1.3895e-01, -7.5715e-04,\n",
       "          9.9824e-04,  9.9030e-01, -3.9264e-02,  1.0728e-01,  2.0001e-02,\n",
       "          3.0388e-01,  3.6011e-06,  2.3802e-06,  9.5271e-01, -8.7980e-02,\n",
       "         -1.4314e-01, -1.5697e-01, -4.4166e-02,  5.7633e-02, -1.5697e-01,\n",
       "          4.3814e-02,  2.0078e-01,  5.4203e-07]])"
      ]
     },
     "execution_count": 2,
     "metadata": {},
     "output_type": "execute_result"
    }
   ],
   "source": [
    "obs"
   ]
  },
  {
   "cell_type": "code",
   "execution_count": 4,
   "metadata": {},
   "outputs": [
    {
     "data": {
      "text/plain": [
       "array([1., 1., 1., 1., 1., 1., 1., 1.], dtype=float32)"
      ]
     },
     "execution_count": 4,
     "metadata": {},
     "output_type": "execute_result"
    }
   ],
   "source": [
    "env.unwrapped.single_action_space.high"
   ]
  },
  {
   "cell_type": "code",
   "execution_count": 5,
   "metadata": {},
   "outputs": [
    {
     "data": {
      "text/plain": [
       "(numpy.ndarray, numpy.ndarray, numpy.ndarray, numpy.ndarray, dict)"
      ]
     },
     "execution_count": 5,
     "metadata": {},
     "output_type": "execute_result"
    }
   ],
   "source": [
    "# convert to numpy arrays\n",
    "type(obs.cpu().numpy()), type(reward.cpu().numpy()), type(terminated.cpu().numpy()), type(truncated.cpu().numpy()), type(info)"
   ]
  },
  {
   "cell_type": "code",
   "execution_count": 47,
   "metadata": {},
   "outputs": [
    {
     "name": "stdout",
     "output_type": "stream",
     "text": [
      "0step [00:00, ?step/s]MESA-INTEL: warning: Performance support disabled, consider sysctl dev.i915.perf_stream_paranoid=0\n",
      "\n",
      "MESA-INTEL: warning: Performance support disabled, consider sysctl dev.i915.perf_stream_paranoid=0\n",
      "\n",
      "0step [00:00, ?step/s, control_mode=pd_joint_delta_pos, obs_mode=state]/home/guru/anaconda3/envs/cs276f/lib/python3.10/site-packages/gymnasium/core.py:311: UserWarning: \u001b[33mWARN: env.obs_mode to get variables from other wrappers is deprecated and will be removed in v1.0, to get this variable you can do `env.unwrapped.obs_mode` for environment variables or `env.get_wrapper_attr('obs_mode')` that will search the reminding wrappers.\u001b[0m\n",
      "  logger.warn(\n",
      "/home/guru/anaconda3/envs/cs276f/lib/python3.10/site-packages/gymnasium/core.py:311: UserWarning: \u001b[33mWARN: env.control_mode to get variables from other wrappers is deprecated and will be removed in v1.0, to get this variable you can do `env.unwrapped.control_mode` for environment variables or `env.get_wrapper_attr('control_mode')` that will search the reminding wrappers.\u001b[0m\n",
      "  logger.warn(\n",
      "/home/guru/anaconda3/envs/cs276f/lib/python3.10/site-packages/gymnasium/core.py:311: UserWarning: \u001b[33mWARN: env.max_episode_steps to get variables from other wrappers is deprecated and will be removed in v1.0, to get this variable you can do `env.unwrapped.max_episode_steps` for environment variables or `env.get_wrapper_attr('max_episode_steps')` that will search the reminding wrappers.\u001b[0m\n",
      "  logger.warn(\n",
      "\u001b[33;1m2024-05-11 12:49:52,778 - mani_skill  - WARNING - mani_skill is not installed with git.\u001b[0m\n",
      "Replaying traj_0:   0%| | 0/154 [00:00<?, ?step/s, control_mode=pd_joint_delta_p           /home/guru/anaconda3/envs/cs276f/lib/python3.10/site-packages/gymnasium/core.py:311: UserWarning: \u001b[33mWARN: env.agent to get variables from other wrappers is deprecated and will be removed in v1.0, to get this variable you can do `env.unwrapped.agent` for environment variables or `env.get_wrapper_attr('agent')` that will search the reminding wrappers.\u001b[0m\n",
      "  logger.warn(\n",
      "Episode 0 is not replayed successfully. Skipping                                \n",
      "Replaying traj_9: 100%|█| 137/137 [00:00<00:00, 305.87step/s, control_mode=pd_jo\n"
     ]
    }
   ],
   "source": [
    "!python -m mani_skill.trajectory.replay_trajectory \\\n",
    "    --traj-path demos/StackCube-v1/teleop/trajectory.h5 --save-traj \\\n",
    "    --obs-mode state -c \"pd_joint_delta_pos\" --num-procs 1"
   ]
  },
  {
   "cell_type": "code",
   "execution_count": 49,
   "metadata": {},
   "outputs": [
    {
     "name": "stderr",
     "output_type": "stream",
     "text": [
      "100%|██████████| 9/9 [00:00<00:00, 935.76it/s]"
     ]
    },
    {
     "name": "stdout",
     "output_type": "stream",
     "text": [
      "[[-6.1129004e-02  4.0547714e-01 -3.7497029e-02 -2.1533577e+00\n",
      "   8.6205162e-02  2.5742989e+00  7.7392846e-01  3.9999999e-02\n",
      "   3.9999481e-02 -1.1621868e-01  4.7171261e-02 -5.7395294e-02\n",
      "  -2.0625879e-01  5.7823692e-02  2.2146250e-01 -4.2592525e-02\n",
      "  -1.8249254e-04  3.0091361e-04 -4.5522347e-02 -5.4602187e-02\n",
      "   1.0680236e-01 -1.5594272e-02  9.9678493e-01 -7.8078531e-02\n",
      "   8.9660482e-03 -8.3306596e-02 -9.3059219e-02  2.0001212e-02\n",
      "   1.3895565e-01  3.4101377e-06 -1.0061878e-05  9.9029869e-01\n",
      "  -3.9263811e-02  1.0727604e-01  2.0000963e-02  3.0388102e-01\n",
      "   3.7140439e-06  2.0803016e-06  9.5271003e-01 -3.7784249e-02\n",
      "  -3.8457032e-02 -8.6801149e-02  6.2585361e-03  1.6187823e-01\n",
      "  -8.6801395e-02  4.4042785e-02  2.0033526e-01 -2.4959445e-07]]\n"
     ]
    },
    {
     "name": "stderr",
     "output_type": "stream",
     "text": [
      "\n"
     ]
    }
   ],
   "source": [
    "from mani_skill.trajectory.dataset import ManiSkillTrajectoryDataset\n",
    "import matplotlib.pyplot as plt\n",
    "dataset = ManiSkillTrajectoryDataset(dataset_file=\"demos/StackCube-v1/teleop/trajectory.state.pd_joint_delta_pos.h5\")\n",
    "data = dataset[23]\n",
    "print(data[\"obs\"])"
   ]
  }
 ],
 "metadata": {
  "kernelspec": {
   "display_name": "cs276HW",
   "language": "python",
   "name": "python3"
  },
  "language_info": {
   "codemirror_mode": {
    "name": "ipython",
    "version": 3
   },
   "file_extension": ".py",
   "mimetype": "text/x-python",
   "name": "python",
   "nbconvert_exporter": "python",
   "pygments_lexer": "ipython3",
   "version": "3.10.12"
  }
 },
 "nbformat": 4,
 "nbformat_minor": 2
}
