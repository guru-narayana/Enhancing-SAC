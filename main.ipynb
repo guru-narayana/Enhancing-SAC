{
 "cells": [
  {
   "cell_type": "markdown",
   "metadata": {},
   "source": [
    "# Setting up everything"
   ]
  },
  {
   "cell_type": "code",
   "execution_count": null,
   "metadata": {},
   "outputs": [],
   "source": [
    "!python -m mani_skill.utils.download_demo \"StackCube-v1\" -o \"demos\"\n",
    "!python -m mani_skill.utils.download_demo \"PickCube-v1\" -o \"demos\""
   ]
  },
  {
   "cell_type": "code",
   "execution_count": null,
   "metadata": {},
   "outputs": [],
   "source": [
    "!python -W ignore -m mani_skill.trajectory.replay_trajectory \\\n",
    "    --traj-path demos/PickCube-v1/teleop/trajectory.h5 --save-traj \\\n",
    "    --obs-mode state -c \"pd_joint_delta_pos\" --num-procs 4 --record-rewards True --save-video\n",
    "\n",
    "!python -W ignore -m mani_skill.trajectory.replay_trajectory \\\n",
    "    --traj-path demos/StackCube-v1/teleop/trajectory.h5 --save-traj \\\n",
    "    --obs-mode state -c \"pd_joint_delta_pos\" --num-procs 1 --record-rewards True --save-video"
   ]
  },
  {
   "cell_type": "code",
   "execution_count": null,
   "metadata": {},
   "outputs": [],
   "source": [
    "ENV_NAME = \"PickCube-v1\"\n",
    "%load_ext tensorboard"
   ]
  },
  {
   "cell_type": "markdown",
   "metadata": {},
   "source": [
    "# Intial test with variying parameters"
   ]
  },
  {
   "cell_type": "code",
   "execution_count": null,
   "metadata": {},
   "outputs": [],
   "source": [
    "!python -W ignore ./scripts/sac.py  --exp_name low_256_4e-4 --batch_size 256 --q_lr 4e-4 --policy_lr 3e-4 --buffer_size 1e6 "
   ]
  },
  {
   "cell_type": "code",
   "execution_count": null,
   "metadata": {},
   "outputs": [],
   "source": [
    "!python -W ignore ./scripts/sac.py  --exp_name low_512_4e-4 --batch_size 512 --q_lr 4e-4 --policy_lr 3e-4 --buffer_size 1e6 "
   ]
  },
  {
   "cell_type": "code",
   "execution_count": null,
   "metadata": {},
   "outputs": [],
   "source": [
    "!python -W ignore ./scripts/sac.py  --exp_name low_768_4e-4 --batch_size 768 --q_lr 4e-4 --policy_lr 3e-4 --buffer_size 1e6 "
   ]
  },
  {
   "cell_type": "code",
   "execution_count": null,
   "metadata": {},
   "outputs": [],
   "source": [
    "!python -W ignore ./scripts/sac.py  --exp_name low_256_6e-4 --batch_size 256 --q_lr 6e-4 --policy_lr 3e-4 --buffer_size 1e6 "
   ]
  },
  {
   "cell_type": "code",
   "execution_count": null,
   "metadata": {},
   "outputs": [],
   "source": [
    "!python -W ignore ./scripts/sac.py  --exp_name low_512_6e-4 --batch_size 512 --q_lr 6e-4 --policy_lr 3e-4 --buffer_size 1e6 "
   ]
  },
  {
   "cell_type": "code",
   "execution_count": null,
   "metadata": {},
   "outputs": [],
   "source": [
    "!python -W ignore ./scripts/sac.py  --exp_name low_768_6e-4 --batch_size 768 --q_lr 6e-4 --policy_lr 3e-4 --buffer_size 1e6 "
   ]
  },
  {
   "cell_type": "code",
   "execution_count": null,
   "metadata": {},
   "outputs": [],
   "source": [
    "!python -W ignore ./scripts/sac.py  --exp_name low_1024_6e_4 --batch_size 1024 --q_lr 6e-4 --policy_lr 3e-4 --buffer_size 1e6 "
   ]
  },
  {
   "cell_type": "code",
   "execution_count": null,
   "metadata": {},
   "outputs": [],
   "source": [
    "!python -W ignore ./scripts/sac.py  --exp_name low_2048_6e_4 --batch_size 2048 --q_lr 6e-4 --policy_lr 3e-4 --buffer_size 1e6 "
   ]
  },
  {
   "cell_type": "code",
   "execution_count": null,
   "metadata": {},
   "outputs": [],
   "source": [
    "!python -W ignore ./scripts/sac.py  --exp_name low_256_4e_4_double --batch_size 256 --q_lr 4e-4 --policy_lr 3e-4 --buffer_size 2e6 "
   ]
  },
  {
   "cell_type": "code",
   "execution_count": null,
   "metadata": {},
   "outputs": [],
   "source": [
    "!python -W ignore ./scripts/sac.py  --exp_name low_512_4e_4_double --batch_size 512 --q_lr 4e-4 --policy_lr 3e-4 --buffer_size 2e6 "
   ]
  },
  {
   "cell_type": "code",
   "execution_count": null,
   "metadata": {},
   "outputs": [],
   "source": [
    "!python -W ignore ./scripts/sac.py  --exp_name low_768_4e_4_double --batch_size 768 --q_lr 4e-4 --policy_lr 3e-4 --buffer_size 2e6 "
   ]
  },
  {
   "cell_type": "code",
   "execution_count": null,
   "metadata": {},
   "outputs": [],
   "source": [
    "!python -W ignore ./scripts/sac.py  --exp_name low_768_1e-3 --batch_size 768 --q_lr 1e-3 --policy_lr 3e-4 --buffer_size 1e6 "
   ]
  },
  {
   "cell_type": "markdown",
   "metadata": {},
   "source": [
    "# With the inclusion of the demo data"
   ]
  },
  {
   "cell_type": "code",
   "execution_count": null,
   "metadata": {},
   "outputs": [],
   "source": [
    "!python -W ignore ./scripts/sac.py  --exp_name demo_05 --use_demo --demo_percent 0.05 "
   ]
  },
  {
   "cell_type": "code",
   "execution_count": null,
   "metadata": {},
   "outputs": [],
   "source": [
    "!python -W ignore ./scripts/sac.py  --exp_name demo_10 --use_demo --demo_percent 0.1 "
   ]
  },
  {
   "cell_type": "code",
   "execution_count": null,
   "metadata": {},
   "outputs": [],
   "source": [
    "!python -W ignore ./scripts/sac.py  --exp_name demo_20 --use_demo --demo_percent 0.2 "
   ]
  },
  {
   "cell_type": "code",
   "execution_count": null,
   "metadata": {},
   "outputs": [],
   "source": [
    "!python -W ignore ./scripts/sac.py  --exp_name demo_30 --use_demo --demo_percent 0.3 "
   ]
  },
  {
   "cell_type": "code",
   "execution_count": null,
   "metadata": {},
   "outputs": [],
   "source": [
    "!python -W ignore ./scripts/sac.py  --exp_name demo_40 --use_demo --demo_percent 0.4 "
   ]
  },
  {
   "cell_type": "code",
   "execution_count": null,
   "metadata": {},
   "outputs": [],
   "source": [
    "!python -W ignore ./scripts/sac.py  --exp_name demo_50--use_demo --demo_percent 0.5 "
   ]
  },
  {
   "cell_type": "markdown",
   "metadata": {},
   "source": [
    "# Prioritized Experience Replay"
   ]
  },
  {
   "cell_type": "markdown",
   "metadata": {},
   "source": [
    "## Max vs Using mean and std"
   ]
  },
  {
   "cell_type": "code",
   "execution_count": null,
   "metadata": {},
   "outputs": [],
   "source": [
    "!python -W ignore ./scripts/sac_per.py  --exp_name per_with_max  --per_alpha 0.4 --per_beta_start 0.4 --per_beta_frames 25000 --learning_starts 5 --use_max_priority"
   ]
  },
  {
   "cell_type": "code",
   "execution_count": null,
   "metadata": {},
   "outputs": [],
   "source": [
    "!python -W ignore ./scripts/sac_per.py  --exp_name per_with_mean  --per_alpha 0.4 --per_beta_start 0.4 --per_beta_frames 25000 --learning_starts 5"
   ]
  },
  {
   "cell_type": "markdown",
   "metadata": {},
   "source": [
    "## Varing the parameters"
   ]
  },
  {
   "cell_type": "code",
   "execution_count": null,
   "metadata": {},
   "outputs": [],
   "source": [
    "!python -W ignore ./scripts/sac_per.py  --exp_name per_a0_2_b0_4_bf25000  --per_alpha 0.2 --per_beta_start 0.4 --per_beta_frames 25000 --learning_starts 5"
   ]
  },
  {
   "cell_type": "code",
   "execution_count": null,
   "metadata": {},
   "outputs": [],
   "source": [
    "!python -W ignore ./scripts/sac_per.py  --exp_name per_a0_4_b0_4_bf25000  --per_alpha 0.4 --per_beta_start 0.4 --per_beta_frames 25000 --learning_starts 5"
   ]
  },
  {
   "cell_type": "code",
   "execution_count": null,
   "metadata": {},
   "outputs": [],
   "source": [
    "!python -W ignore ./scripts/sac_per.py  --exp_name per_a0_6_b0_4_bf25000  --per_alpha 0.6 --per_beta_start 0.4 --per_beta_frames 25000 --learning_starts 5"
   ]
  },
  {
   "cell_type": "code",
   "execution_count": null,
   "metadata": {},
   "outputs": [],
   "source": [
    "!python -W ignore ./scripts/sac_per.py  --exp_name per_a0_4_b0_6_bf25000  --per_alpha 0.4 --per_beta_start 0.6 --per_beta_frames 25000 --learning_starts 5"
   ]
  },
  {
   "cell_type": "code",
   "execution_count": null,
   "metadata": {},
   "outputs": [],
   "source": [
    "!python -W ignore ./scripts/sac_per.py  --exp_name per_a0_4_b0_2_bf25000  --per_alpha 0.4 --per_beta_start 0.2 --per_beta_frames 25000 --learning_starts 5"
   ]
  },
  {
   "cell_type": "code",
   "execution_count": null,
   "metadata": {},
   "outputs": [],
   "source": [
    "!python -W ignore ./scripts/sac_per.py  --exp_name per_a0_4_b0_4_bf50000  --per_alpha 0.4 --per_beta_start 0.4 --per_beta_frames 50000 --learning_starts 5"
   ]
  },
  {
   "cell_type": "code",
   "execution_count": null,
   "metadata": {},
   "outputs": [],
   "source": [
    "!python -W ignore ./scripts/sac_per.py  --exp_name per_a0_4_b0_4_bf10000  --per_alpha 0.4 --per_beta_start 0.4 --per_beta_frames 10000 --learning_starts 5"
   ]
  },
  {
   "cell_type": "markdown",
   "metadata": {},
   "source": [
    "## Final best of all"
   ]
  },
  {
   "cell_type": "code",
   "execution_count": null,
   "metadata": {},
   "outputs": [],
   "source": [
    "!python -W ignore ./scripts/sac.py  --exp_name \"Batchsize_2048__Q_lr_2e-3__Policy_lr_6e-4\" --batch_size 2048 --q_lr 2e-3 --policy_lr 6e-4 --buffer_size 1e6 --num_envs 512 --total_timesteps 100000"
   ]
  },
  {
   "cell_type": "code",
   "execution_count": null,
   "metadata": {},
   "outputs": [],
   "source": [
    "!python -W ignore ./scripts/sac.py  --exp_name \"Demo_05_Batchsize_2048__Q_lr_2e-3__Policy_lr_6e-4\" --batch_size 2048 --q_lr 2e-3 --policy_lr 6e-4 --buffer_size 1e6 --num_envs 512 --total_timesteps 100000 --use_demo --demo_percent 0.05"
   ]
  },
  {
   "cell_type": "code",
   "execution_count": null,
   "metadata": {},
   "outputs": [],
   "source": [
    "!python -W ignore ./scripts/sac_per.py  --exp_name \"PER__alpha_0_4__beta_0_4__Beta_frames_25000\"  --batch_size 2048 --q_lr 2e-3 --policy_lr 6e-4 --buffer_size 1e6 --num_envs 512 --per_alpha 0.4 --per_beta_start 0.4 --per_beta_frames 25000"
   ]
  },
  {
   "cell_type": "markdown",
   "metadata": {},
   "source": [
    "# Final best of all (Reward Rescaled)"
   ]
  },
  {
   "cell_type": "code",
   "execution_count": null,
   "metadata": {},
   "outputs": [],
   "source": [
    "!python -W ignore ./scripts/sac.py  --exp_name \"R_Batchsize_2048__Q_lr_2e-3__Policy_lr_6e-4\" --batch_size 2048 --q_lr 2e-3 --policy_lr 6e-4 --buffer_size 1e6 --num_envs 512  --RESCALE_REWARDS"
   ]
  },
  {
   "cell_type": "code",
   "execution_count": null,
   "metadata": {},
   "outputs": [],
   "source": [
    "!python -W ignore ./scripts/sac.py  --exp_name \"R_Demo_05_Batchsize_2048__Q_lr_2e-3__Policy_lr_6e-4\" --batch_size 2048 --q_lr 2e-3 --policy_lr 6e-4 --buffer_size 1e6 --num_envs 512 --use_demo --demo_percent 0.05 --RESCALE_REWARDS --learning_starts 5"
   ]
  },
  {
   "cell_type": "code",
   "execution_count": null,
   "metadata": {},
   "outputs": [],
   "source": [
    "!python -W ignore ./scripts/sac_per.py  --exp_name \"R_PER__alpha_0_4__beta_0_4__Beta_frames_25000\"  --batch_size 2048 --q_lr 2e-3 --policy_lr 6e-4 --buffer_size 1e6 --num_envs 512 --per_alpha 0.4 --per_beta_start 0.4 --per_beta_frames 25000 --RESCALE_REWARDS"
   ]
  },
  {
   "cell_type": "markdown",
   "metadata": {},
   "source": [
    "# Evaluation and generating video\n",
    "\n",
    "Change the file name in the checkpoint to generate the video. The generated video will be present in the same folder as the checkpoint."
   ]
  },
  {
   "cell_type": "code",
   "execution_count": null,
   "metadata": {},
   "outputs": [],
   "source": [
    "!python -W ignore ./scripts/sac.py --evaluate --num_eval_envs 8 --capture-video --total_timesteps 500 --checkpoint \"/home/guru/Quarter_work/Q3/CS_276/Project1/runs/success_bench/PickCube-v1__PER__alpha_0_4__beta_0_4__Beta_frames_10000__1__1716078142/model_54000.pt\""
   ]
  }
 ],
 "metadata": {
  "kernelspec": {
   "display_name": "cs276f",
   "language": "python",
   "name": "python3"
  },
  "language_info": {
   "codemirror_mode": {
    "name": "ipython",
    "version": 3
   },
   "file_extension": ".py",
   "mimetype": "text/x-python",
   "name": "python",
   "nbconvert_exporter": "python",
   "pygments_lexer": "ipython3",
   "version": "3.10.12"
  }
 },
 "nbformat": 4,
 "nbformat_minor": 2
}
