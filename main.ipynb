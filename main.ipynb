{
 "cells": [
  {
   "cell_type": "markdown",
   "metadata": {},
   "source": [
    "# setting up everything"
   ]
  },
  {
   "cell_type": "code",
   "execution_count": null,
   "metadata": {},
   "outputs": [],
   "source": [
    "!python -m mani_skill.utils.download_demo \"StackCube-v1\" -o \"demos\"\n",
    "!python -m mani_skill.utils.download_demo \"PickCube-v1\" -o \"demos\""
   ]
  },
  {
   "cell_type": "code",
   "execution_count": null,
   "metadata": {},
   "outputs": [],
   "source": [
    "!python -W ignore -m mani_skill.trajectory.replay_trajectory \\\n",
    "    --traj-path demos/PickCube-v1/teleop/trajectory.h5 --save-traj \\\n",
    "    --obs-mode state -c \"pd_joint_delta_pos\" --num-procs 4 --record-rewards True --save-video\n",
    "\n",
    "!python -W ignore -m mani_skill.trajectory.replay_trajectory \\\n",
    "    --traj-path demos/StackCube-v1/teleop/trajectory.h5 --save-traj \\\n",
    "    --obs-mode state -c \"pd_joint_delta_pos\" --num-procs 1 --record-rewards True --save-video"
   ]
  },
  {
   "cell_type": "code",
   "execution_count": null,
   "metadata": {},
   "outputs": [],
   "source": [
    "ENV_NAME = \"PickCube-v1\""
   ]
  },
  {
   "cell_type": "markdown",
   "metadata": {},
   "source": [
    "# Intial test with variying parameters"
   ]
  },
  {
   "cell_type": "code",
   "execution_count": null,
   "metadata": {},
   "outputs": [],
   "source": [
    "!python -W ignore ./scripts/sac.py  --exp_name low_256_4e-4 --batch_size 256 --q_lr 4e-4 --policy_lr 3e-4 --buffer_size 1e6 --num_envs 256 --env_id \"{ENV_NAME}\""
   ]
  },
  {
   "cell_type": "code",
   "execution_count": null,
   "metadata": {},
   "outputs": [],
   "source": [
    "!python -W ignore ./scripts/sac.py  --exp_name low_512_4e-4 --batch_size 512 --q_lr 4e-4 --policy_lr 3e-4 --buffer_size 1e6 --num_envs 512 --env_id \"{ENV_NAME}\""
   ]
  },
  {
   "cell_type": "code",
   "execution_count": null,
   "metadata": {},
   "outputs": [],
   "source": [
    "!python -W ignore ./scripts/sac.py  --exp_name low_768_4e-4 --batch_size 768 --q_lr 4e-4 --policy_lr 3e-4 --buffer_size 1e6 --num_envs 768 --env_id \"{ENV_NAME}\""
   ]
  },
  {
   "cell_type": "code",
   "execution_count": null,
   "metadata": {},
   "outputs": [],
   "source": [
    "!python -W ignore ./scripts/sac.py  --exp_name low_256_6e-4 --batch_size 256 --q_lr 6e-4 --policy_lr 3e-4 --buffer_size 1e6 --num_envs 256 --env_id \"{ENV_NAME}\""
   ]
  },
  {
   "cell_type": "code",
   "execution_count": null,
   "metadata": {},
   "outputs": [],
   "source": [
    "!python -W ignore ./scripts/sac.py  --exp_name low_512_6e-4 --batch_size 512 --q_lr 6e-4 --policy_lr 3e-4 --buffer_size 1e6 --num_envs 512 --env_id \"{ENV_NAME}\""
   ]
  },
  {
   "cell_type": "code",
   "execution_count": null,
   "metadata": {},
   "outputs": [],
   "source": [
    "!python -W ignore ./scripts/sac.py  --exp_name low_768_6e-4 --batch_size 768 --q_lr 6e-4 --policy_lr 3e-4 --buffer_size 1e6 --num_envs 768 --env_id \"{ENV_NAME}\""
   ]
  },
  {
   "cell_type": "code",
   "execution_count": null,
   "metadata": {},
   "outputs": [],
   "source": [
    "!python -W ignore ./scripts/sac.py  --exp_name low_256_4e_4_double --batch_size 256 --q_lr 4e-4 --policy_lr 3e-4 --buffer_size 2e6 --num_envs 256 --env_id \"{ENV_NAME}\""
   ]
  },
  {
   "cell_type": "code",
   "execution_count": null,
   "metadata": {},
   "outputs": [],
   "source": [
    "!python -W ignore ./scripts/sac.py  --exp_name low_512_4e_4_double --batch_size 512 --q_lr 4e-4 --policy_lr 3e-4 --buffer_size 2e6 --num_envs 512 --env_id \"{ENV_NAME}\""
   ]
  },
  {
   "cell_type": "code",
   "execution_count": null,
   "metadata": {},
   "outputs": [],
   "source": [
    "!python -W ignore ./scripts/sac.py  --exp_name low_768_4e_4_double --batch_size 768 --q_lr 4e-4 --policy_lr 3e-4 --buffer_size 2e6 --num_envs 768 --env_id \"{ENV_NAME}\""
   ]
  },
  {
   "cell_type": "markdown",
   "metadata": {},
   "source": [
    "# With the inclusion of the demo data"
   ]
  },
  {
   "cell_type": "code",
   "execution_count": null,
   "metadata": {},
   "outputs": [],
   "source": [
    "!python -W ignore ./scripts/sac.py  --exp_name demo_00_5_6e-4 --batch_size 512 --q_lr 6e-4 --policy_lr 3e-4 --buffer_size 1e6 --num_envs 512 --use_demo --demo_percent 0.05 --env_id \"{ENV_NAME}\""
   ]
  },
  {
   "cell_type": "code",
   "execution_count": null,
   "metadata": {},
   "outputs": [],
   "source": [
    "!python -W ignore ./scripts/sac.py  --exp_name demo_10_6e-4 --batch_size 512 --q_lr 6e-4 --policy_lr 3e-4 --buffer_size 1e6 --num_envs 512 --use_demo --demo_percent 0.1 --env_id \"{ENV_NAME}\""
   ]
  },
  {
   "cell_type": "code",
   "execution_count": null,
   "metadata": {},
   "outputs": [],
   "source": [
    "!python -W ignore ./scripts/sac.py  --exp_name demo_20_6e-4 --batch_size 512 --q_lr 6e-4 --policy_lr 3e-4 --buffer_size 1e6 --num_envs 512 --use_demo --demo_percent 0.2 --env_id \"{ENV_NAME}\""
   ]
  },
  {
   "cell_type": "code",
   "execution_count": null,
   "metadata": {},
   "outputs": [],
   "source": [
    "!python -W ignore ./scripts/sac.py  --exp_name demo_30_6e-4 --batch_size 512 --q_lr 6e-4 --policy_lr 3e-4 --buffer_size 1e6 --num_envs 512 --use_demo --demo_percent 0.3 --env_id \"{ENV_NAME}\""
   ]
  },
  {
   "cell_type": "code",
   "execution_count": null,
   "metadata": {},
   "outputs": [],
   "source": [
    "!python -W ignore ./scripts/sac.py  --exp_name demo_40_6e-4 --batch_size 512 --q_lr 6e-4 --policy_lr 3e-4 --buffer_size 1e6 --num_envs 512 --use_demo --demo_percent 0.4 --env_id \"{ENV_NAME}\""
   ]
  },
  {
   "cell_type": "code",
   "execution_count": null,
   "metadata": {},
   "outputs": [],
   "source": [
    "!python -W ignore ./scripts/sac.py  --exp_name demo_50_6e-4 --batch_size 512 --q_lr 6e-4 --policy_lr 3e-4 --buffer_size 1e6 --num_envs 512 --use_demo --demo_percent 0.5 --env_id \"{ENV_NAME}\""
   ]
  },
  {
   "cell_type": "markdown",
   "metadata": {},
   "source": [
    "# Prioritized Experience Replay"
   ]
  },
  {
   "cell_type": "markdown",
   "metadata": {},
   "source": [
    "## Max vs Using mean and std"
   ]
  },
  {
   "cell_type": "code",
   "execution_count": 7,
   "metadata": {},
   "outputs": [
    {
     "name": "stdout",
     "output_type": "stream",
     "text": [
      "Logging to tensorboard in runs/PickCube-v1__per_with_max__1__1716001422\n",
      "MESA-INTEL: warning: Performance support disabled, consider sysctl dev.i915.perf_stream_paranoid=0\n",
      "\n",
      "MESA-INTEL: warning: Performance support disabled, consider sysctl dev.i915.perf_stream_paranoid=0\n",
      "\n",
      "env_step=102400, episodic_return=2.3301011323928833, episodic_length=50.0\n",
      "Actor Loss: -17.733287811279297 Q Loss: 0.03284958004951477 Alpha: 0.8891876339912415 Q1 Loss: 0.03310540318489075 Q1 Value: 12.88728141784668 Q2 Value: 12.884973526000977 \n",
      "\n",
      "env_step=204800, episodic_return=2.438671350479126, episodic_length=50.0\n",
      "Actor Loss: -23.819101333618164 Q Loss: 0.026331964880228043 Alpha: 0.7950498461723328 Q1 Loss: 0.026341639459133148 Q1 Value: 19.47208023071289 Q2 Value: 19.469547271728516 \n",
      "\n",
      "env_step=307200, episodic_return=2.481757879257202, episodic_length=50.0\n",
      "Actor Loss: -29.463848114013672 Q Loss: 0.018319975584745407 Alpha: 0.714931309223175 Q1 Loss: 0.01833127811551094 Q1 Value: 25.53795623779297 Q2 Value: 25.541248321533203 \n",
      "\n"
     ]
    }
   ],
   "source": [
    "!python -W ignore ./scripts/sac_per.py  --exp_name per_with_max  --per_alpha 0.4 --per_beta_start 0.4 --per_beta_frames 25000 --learning_starts 5 --use_max_priority"
   ]
  },
  {
   "cell_type": "code",
   "execution_count": null,
   "metadata": {},
   "outputs": [],
   "source": [
    "!python -W ignore ./scripts/sac_per.py  --exp_name per_with_mean  --per_alpha 0.4 --per_beta_start 0.4 --per_beta_frames 25000 --learning_starts 5"
   ]
  },
  {
   "cell_type": "markdown",
   "metadata": {},
   "source": [
    "## Varing the parameters"
   ]
  },
  {
   "cell_type": "code",
   "execution_count": null,
   "metadata": {},
   "outputs": [],
   "source": [
    "!python -W ignore ./scripts/sac_per.py  --exp_name per_a0_2_b0_4_bf25000  --per_alpha 0.2 --per_beta_start 0.4 --per_beta_frames 25000 --learning_starts 5"
   ]
  },
  {
   "cell_type": "code",
   "execution_count": null,
   "metadata": {},
   "outputs": [],
   "source": [
    "!python -W ignore ./scripts/sac_per.py  --exp_name per_a0_4_b0_4_bf25000  --per_alpha 0.4 --per_beta_start 0.4 --per_beta_frames 25000 --learning_starts 5"
   ]
  },
  {
   "cell_type": "code",
   "execution_count": null,
   "metadata": {},
   "outputs": [],
   "source": [
    "!python -W ignore ./scripts/sac_per.py  --exp_name per_a0_6_b0_4_bf25000  --per_alpha 0.6 --per_beta_start 0.4 --per_beta_frames 25000 --learning_starts 5"
   ]
  },
  {
   "cell_type": "code",
   "execution_count": null,
   "metadata": {},
   "outputs": [],
   "source": [
    "!python -W ignore ./scripts/sac_per.py  --exp_name per_a0_4_b0_4_bf25000  --per_alpha 0.4 --per_beta_start 0.6 --per_beta_frames 25000 --learning_starts 5"
   ]
  },
  {
   "cell_type": "code",
   "execution_count": null,
   "metadata": {},
   "outputs": [],
   "source": [
    "!python -W ignore ./scripts/sac_per.py  --exp_name per_a0_4_b0_4_bf25000  --per_alpha 0.4 --per_beta_start 0.2 --per_beta_frames 25000 --learning_starts 5"
   ]
  },
  {
   "cell_type": "code",
   "execution_count": null,
   "metadata": {},
   "outputs": [],
   "source": [
    "!python -W ignore ./scripts/sac_per.py  --exp_name per_a0_4_b0_4_bf50000  --per_alpha 0.4 --per_beta_start 0.4 --per_beta_frames 50000 --learning_starts 5"
   ]
  },
  {
   "cell_type": "code",
   "execution_count": null,
   "metadata": {},
   "outputs": [],
   "source": [
    "!python -W ignore ./scripts/sac_per.py  --exp_name per_a0_4_b0_4_bf10000  --per_alpha 0.4 --per_beta_start 0.4 --per_beta_frames 10000 --learning_starts 5"
   ]
  },
  {
   "cell_type": "markdown",
   "metadata": {},
   "source": [
    "# Evaluation and generating video"
   ]
  },
  {
   "cell_type": "code",
   "execution_count": null,
   "metadata": {},
   "outputs": [],
   "source": [
    "!python -W ignore ./scripts/sac.py --env_id \"{ENV_NAME}\" --evaluate --num_eval_envs 1 --capture-video --total_timesteps 500 --checkpoint \"runs/pick_cube_bench/PickCube-v1__low_768_6e-4__1__1715861462/model_48000.pt\""
   ]
  }
 ],
 "metadata": {
  "kernelspec": {
   "display_name": "cs276f",
   "language": "python",
   "name": "python3"
  },
  "language_info": {
   "codemirror_mode": {
    "name": "ipython",
    "version": 3
   },
   "file_extension": ".py",
   "mimetype": "text/x-python",
   "name": "python",
   "nbconvert_exporter": "python",
   "pygments_lexer": "ipython3",
   "version": "3.10.12"
  }
 },
 "nbformat": 4,
 "nbformat_minor": 2
}
